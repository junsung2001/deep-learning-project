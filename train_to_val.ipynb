{
 "cells": [
  {
   "cell_type": "code",
   "execution_count": 1,
   "id": "b172d00a-2f4d-42fb-a3b4-cb65b7e703bb",
   "metadata": {},
   "outputs": [
    {
     "name": "stdout",
     "output_type": "stream",
     "text": [
      "✅ 148개의 파일을 검증셋(val)으로 이동 완료!\n"
     ]
    }
   ],
   "source": [
    "import os\n",
    "import shutil\n",
    "import random\n",
    "\n",
    "# 설정\n",
    "base_path = \"dataset\"  # dataset 경로\n",
    "img_train = os.path.join(base_path, \"images/train\")\n",
    "lbl_train = os.path.join(base_path, \"labels/train\")\n",
    "img_val = os.path.join(base_path, \"images/val\")\n",
    "lbl_val = os.path.join(base_path, \"labels/val\")\n",
    "\n",
    "# 폴더 생성\n",
    "os.makedirs(img_val, exist_ok=True)\n",
    "os.makedirs(lbl_val, exist_ok=True)\n",
    "\n",
    "# 분할할 비율\n",
    "val_ratio = 0.2\n",
    "\n",
    "# 파일 리스트\n",
    "image_files = [f for f in os.listdir(img_train) if f.endswith(\".jpg\")]\n",
    "random.shuffle(image_files)\n",
    "val_count = int(len(image_files) * val_ratio)\n",
    "val_files = image_files[:val_count]\n",
    "\n",
    "# 이동\n",
    "for f in val_files:\n",
    "    label_name = f.replace(\".jpg\", \".txt\")\n",
    "    shutil.move(os.path.join(img_train, f), os.path.join(img_val, f))\n",
    "    shutil.move(os.path.join(lbl_train, label_name), os.path.join(lbl_val, label_name))\n",
    "\n",
    "print(f\" {val_count}개의 파일을 검증셋(val)으로 이동 완료\")\n"
   ]
  },
  {
   "cell_type": "code",
   "execution_count": null,
   "id": "6a8afa4d-7bec-4588-922f-245b0c18a301",
   "metadata": {},
   "outputs": [],
   "source": []
  }
 ],
 "metadata": {
  "kernelspec": {
   "display_name": "Python [conda env:base] *",
   "language": "python",
   "name": "conda-base-py"
  },
  "language_info": {
   "codemirror_mode": {
    "name": "ipython",
    "version": 3
   },
   "file_extension": ".py",
   "mimetype": "text/x-python",
   "name": "python",
   "nbconvert_exporter": "python",
   "pygments_lexer": "ipython3",
   "version": "3.12.7"
  }
 },
 "nbformat": 4,
 "nbformat_minor": 5
}
